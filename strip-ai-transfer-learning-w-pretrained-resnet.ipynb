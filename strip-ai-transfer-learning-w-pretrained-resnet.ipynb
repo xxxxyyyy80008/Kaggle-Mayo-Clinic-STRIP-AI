{
 "cells": [
  {
   "cell_type": "markdown",
   "metadata": {},
   "source": [
    "## Mayo Clinic - STRIP AI - Transfer Learning with pytorch pretrained resnet\n",
    "\n",
    "\n",
    "#### Key notes:\n",
    "- this script is based on [pytorch transfer learning example](https://github.com/pytorch/tutorials/blob/master/beginner_source/transfer_learning_tutorial.py) using pretrained resnet\n",
    "- dataset used in this notebook are images resized to max(height,width)=500 using `PIL` (pillow) package\n",
    "    -  note this dataset is missing 2 images - one from *train* folder and one from *other* folder\n",
    "    -  for EDA and image processing, refer [this notebook](https://www.kaggle.com/code/xxxxyyyy80008/mayo-clinic-strip-ai-eda-and-image-processing) and this post [Process images with pyvips package and handle the memory limitation issue](https://www.kaggle.com/competitions/mayo-clinic-strip-ai/discussion/340052)\n",
    "- the pytorch pretrained models are downloaded from pytorch website and added to the notebook via `+Add Data`\n",
    "    -  this is to make the script still work when the notebook is set `offline`\n",
    "- for simplicity, there is no addtional image processing other than resizing the original images\n",
    "\n",
    "\n",
    "\n",
    "#### References: \n",
    "- [pytorch transfer learning totorial](https://github.com/pytorch/tutorials/blob/master/beginner_source/transfer_learning_tutorial.py)\n",
    "- [pytorch list of pretrained models](https://pytorch.org/vision/stable/models.html)"
   ]
  },
  {
   "cell_type": "code",
   "execution_count": 3,
   "metadata": {
    "execution": {
     "iopub.execute_input": "2022-07-28T06:07:16.879473Z",
     "iopub.status.busy": "2022-07-28T06:07:16.878930Z",
     "iopub.status.idle": "2022-07-28T06:07:16.890176Z",
     "shell.execute_reply": "2022-07-28T06:07:16.889203Z",
     "shell.execute_reply.started": "2022-07-28T06:07:16.879439Z"
    }
   },
   "outputs": [
    {
     "data": {
      "text/plain": [
       "('/kaggle/input',\n",
       " ['stripai-traindata', 'pytorch-pretrained', 'mayo-clinic-strip-ai'],\n",
       " [])"
      ]
     },
     "execution_count": 3,
     "metadata": {},
     "output_type": "execute_result"
    }
   ],
   "source": [
    "import os\n",
    "next(os.walk('/kaggle/input'))   "
   ]
  },
  {
   "cell_type": "code",
   "execution_count": 4,
   "metadata": {
    "execution": {
     "iopub.execute_input": "2022-07-28T06:07:16.892312Z",
     "iopub.status.busy": "2022-07-28T06:07:16.891934Z",
     "iopub.status.idle": "2022-07-28T06:07:16.906872Z",
     "shell.execute_reply": "2022-07-28T06:07:16.905471Z",
     "shell.execute_reply.started": "2022-07-28T06:07:16.892276Z"
    }
   },
   "outputs": [
    {
     "data": {
      "text/plain": [
       "1234"
      ]
     },
     "execution_count": 4,
     "metadata": {},
     "output_type": "execute_result"
    }
   ],
   "source": [
    "#basic libs\n",
    "\n",
    "import pandas as pd\n",
    "import numpy as np\n",
    "import os\n",
    "from pathlib import Path\n",
    "\n",
    "from datetime import datetime, timedelta\n",
    "import time\n",
    "from dateutil.relativedelta import relativedelta\n",
    "\n",
    "import gc\n",
    "import copy\n",
    "import shutil\n",
    "#additional data processing\n",
    "\n",
    "import pyarrow.parquet as pq\n",
    "import pyarrow as pa\n",
    "\n",
    "from sklearn.preprocessing import StandardScaler, MinMaxScaler\n",
    "\n",
    "\n",
    "#visualization\n",
    "import seaborn as sns\n",
    "import matplotlib.pyplot as plt\n",
    "\n",
    "#load images\n",
    "import matplotlib.image as mpimg\n",
    "import PIL\n",
    "from PIL import Image\n",
    "\n",
    "\n",
    "\n",
    "\n",
    "#settings\n",
    "pd.options.display.max_rows = 100\n",
    "pd.options.display.max_columns = 100\n",
    "\n",
    "Image.MAX_IMAGE_PIXELS = None\n",
    "\n",
    "import warnings\n",
    "warnings.filterwarnings(\"ignore\")\n",
    "\n",
    "import pytorch_lightning as pl\n",
    "random_seed=1234\n",
    "pl.seed_everything(random_seed)"
   ]
  },
  {
   "cell_type": "code",
   "execution_count": 5,
   "metadata": {
    "execution": {
     "iopub.execute_input": "2022-07-28T06:07:16.909496Z",
     "iopub.status.busy": "2022-07-28T06:07:16.909074Z",
     "iopub.status.idle": "2022-07-28T06:07:16.918163Z",
     "shell.execute_reply": "2022-07-28T06:07:16.917075Z",
     "shell.execute_reply.started": "2022-07-28T06:07:16.909463Z"
    }
   },
   "outputs": [
    {
     "data": {
      "text/plain": [
       "<matplotlib.pyplot._IonContext at 0x7fd5f7066490>"
      ]
     },
     "execution_count": 5,
     "metadata": {},
     "output_type": "execute_result"
    }
   ],
   "source": [
    "\n",
    "import torch\n",
    "import torch.nn as nn\n",
    "import torch.optim as optim\n",
    "from torch.optim import lr_scheduler\n",
    "import torch.backends.cudnn as cudnn\n",
    "import torchvision\n",
    "from torchvision import datasets, models, transforms\n",
    "\n",
    "\n",
    "cudnn.benchmark = True\n",
    "plt.ion()   # interactive mode"
   ]
  },
  {
   "cell_type": "markdown",
   "metadata": {},
   "source": [
    "#### Load data and prep data"
   ]
  },
  {
   "cell_type": "code",
   "execution_count": 6,
   "metadata": {
    "execution": {
     "iopub.execute_input": "2022-07-28T06:07:16.920244Z",
     "iopub.status.busy": "2022-07-28T06:07:16.919647Z",
     "iopub.status.idle": "2022-07-28T06:07:16.947875Z",
     "shell.execute_reply": "2022-07-28T06:07:16.946895Z",
     "shell.execute_reply.started": "2022-07-28T06:07:16.920208Z"
    }
   },
   "outputs": [],
   "source": [
    "train_df = pd.read_csv('/kaggle/input/mayo-clinic-strip-ai/train.csv')\n",
    "other_df = pd.read_csv('/kaggle/input/mayo-clinic-strip-ai/other.csv')"
   ]
  },
  {
   "cell_type": "code",
   "execution_count": 7,
   "metadata": {
    "execution": {
     "iopub.execute_input": "2022-07-28T06:07:16.951361Z",
     "iopub.status.busy": "2022-07-28T06:07:16.949250Z",
     "iopub.status.idle": "2022-07-28T06:07:16.961406Z",
     "shell.execute_reply": "2022-07-28T06:07:16.960231Z",
     "shell.execute_reply.started": "2022-07-28T06:07:16.951332Z"
    }
   },
   "outputs": [],
   "source": [
    "other_df['label'] = 'Other'"
   ]
  },
  {
   "cell_type": "code",
   "execution_count": 8,
   "metadata": {
    "execution": {
     "iopub.execute_input": "2022-07-28T06:07:21.309446Z",
     "iopub.status.busy": "2022-07-28T06:07:21.308263Z",
     "iopub.status.idle": "2022-07-28T06:07:21.327481Z",
     "shell.execute_reply": "2022-07-28T06:07:21.326564Z",
     "shell.execute_reply.started": "2022-07-28T06:07:21.309403Z"
    }
   },
   "outputs": [
    {
     "data": {
      "text/plain": [
       "(1150, 3)"
      ]
     },
     "execution_count": 8,
     "metadata": {},
     "output_type": "execute_result"
    }
   ],
   "source": [
    "df = pd.concat([train_df[['image_id', 'patient_id', 'label']], \n",
    "                other_df[['image_id', 'patient_id', 'label']]], axis=0)\n",
    "df.shape"
   ]
  },
  {
   "cell_type": "code",
   "execution_count": 9,
   "metadata": {
    "execution": {
     "iopub.execute_input": "2022-07-28T06:07:22.503704Z",
     "iopub.status.busy": "2022-07-28T06:07:22.503253Z",
     "iopub.status.idle": "2022-07-28T06:07:22.722007Z",
     "shell.execute_reply": "2022-07-28T06:07:22.720976Z",
     "shell.execute_reply.started": "2022-07-28T06:07:22.503666Z"
    }
   },
   "outputs": [
    {
     "data": {
      "text/plain": [
       "151"
      ]
     },
     "execution_count": 9,
     "metadata": {},
     "output_type": "execute_result"
    }
   ],
   "source": [
    "del train_df, other_df\n",
    "gc.collect()"
   ]
  },
  {
   "cell_type": "code",
   "execution_count": 10,
   "metadata": {
    "execution": {
     "iopub.execute_input": "2022-07-28T06:07:24.076952Z",
     "iopub.status.busy": "2022-07-28T06:07:24.076525Z",
     "iopub.status.idle": "2022-07-28T06:07:24.090257Z",
     "shell.execute_reply": "2022-07-28T06:07:24.089027Z",
     "shell.execute_reply.started": "2022-07-28T06:07:24.076914Z"
    }
   },
   "outputs": [
    {
     "data": {
      "text/plain": [
       "CE       0.475652\n",
       "Other    0.344348\n",
       "LAA      0.180000\n",
       "Name: label, dtype: float64"
      ]
     },
     "execution_count": 10,
     "metadata": {},
     "output_type": "execute_result"
    }
   ],
   "source": [
    "#check the distribution of target labels\n",
    "df['label'].value_counts()/df.shape[0]"
   ]
  },
  {
   "cell_type": "code",
   "execution_count": 11,
   "metadata": {
    "execution": {
     "iopub.execute_input": "2022-07-28T06:07:25.697564Z",
     "iopub.status.busy": "2022-07-28T06:07:25.696987Z",
     "iopub.status.idle": "2022-07-28T06:07:25.717597Z",
     "shell.execute_reply": "2022-07-28T06:07:25.716678Z",
     "shell.execute_reply.started": "2022-07-28T06:07:25.697518Z"
    }
   },
   "outputs": [
    {
     "data": {
      "text/plain": [
       "0    0.475652\n",
       "2    0.344348\n",
       "1    0.180000\n",
       "Name: target, dtype: float64"
      ]
     },
     "execution_count": 11,
     "metadata": {},
     "output_type": "execute_result"
    }
   ],
   "source": [
    "#convert the lable into numeric type\n",
    "label_dict ={'CE':0, 'LAA':1, 'Other':2}\n",
    "df['target']=df['label'].map(label_dict)\n",
    "df['target'].value_counts()/df.shape[0]"
   ]
  },
  {
   "cell_type": "code",
   "execution_count": 12,
   "metadata": {
    "execution": {
     "iopub.execute_input": "2022-07-28T06:07:27.046748Z",
     "iopub.status.busy": "2022-07-28T06:07:27.046326Z",
     "iopub.status.idle": "2022-07-28T06:07:27.104940Z",
     "shell.execute_reply": "2022-07-28T06:07:27.103873Z",
     "shell.execute_reply.started": "2022-07-28T06:07:27.046714Z"
    }
   },
   "outputs": [],
   "source": [
    "from sklearn.model_selection import train_test_split"
   ]
  },
  {
   "cell_type": "code",
   "execution_count": 13,
   "metadata": {
    "execution": {
     "iopub.execute_input": "2022-07-28T06:07:28.287261Z",
     "iopub.status.busy": "2022-07-28T06:07:28.286192Z",
     "iopub.status.idle": "2022-07-28T06:07:28.297068Z",
     "shell.execute_reply": "2022-07-28T06:07:28.296113Z",
     "shell.execute_reply.started": "2022-07-28T06:07:28.287221Z"
    }
   },
   "outputs": [],
   "source": [
    "#split data into train and eval sets\n",
    "X_train, X_val, y_train, y_val = train_test_split(df[['image_id', 'label', 'target']], df['target'], test_size=0.25, random_state=1234)"
   ]
  },
  {
   "cell_type": "code",
   "execution_count": 14,
   "metadata": {
    "execution": {
     "iopub.execute_input": "2022-07-28T06:07:29.564223Z",
     "iopub.status.busy": "2022-07-28T06:07:29.563853Z",
     "iopub.status.idle": "2022-07-28T06:07:29.579753Z",
     "shell.execute_reply": "2022-07-28T06:07:29.578786Z",
     "shell.execute_reply.started": "2022-07-28T06:07:29.564194Z"
    }
   },
   "outputs": [
    {
     "name": "stdout",
     "output_type": "stream",
     "text": [
      "train data:  862 --------------------------------------------------\n"
     ]
    },
    {
     "data": {
      "text/plain": [
       "CE       0.476798\n",
       "Other    0.345708\n",
       "LAA      0.177494\n",
       "Name: label, dtype: float64"
      ]
     },
     "metadata": {},
     "output_type": "display_data"
    },
    {
     "name": "stdout",
     "output_type": "stream",
     "text": [
      "valuation data: 288 --------------------------------------------------\n"
     ]
    },
    {
     "data": {
      "text/plain": [
       "CE       0.472222\n",
       "Other    0.340278\n",
       "LAA      0.187500\n",
       "Name: label, dtype: float64"
      ]
     },
     "metadata": {},
     "output_type": "display_data"
    }
   ],
   "source": [
    "#check the label distribution in train and val datasets\n",
    "print('train data: ', len(X_train),  '-'*50)\n",
    "display(X_train['label'].value_counts()/X_train.shape[0])\n",
    "print('valuation data:', len(X_val), '-'*50)\n",
    "display(X_val['label'].value_counts()/X_val.shape[0])"
   ]
  },
  {
   "cell_type": "markdown",
   "metadata": {},
   "source": [
    "### Define Dataset class"
   ]
  },
  {
   "cell_type": "code",
   "execution_count": 15,
   "metadata": {
    "execution": {
     "iopub.execute_input": "2022-07-28T06:07:31.966827Z",
     "iopub.status.busy": "2022-07-28T06:07:31.965878Z",
     "iopub.status.idle": "2022-07-28T06:07:31.977433Z",
     "shell.execute_reply": "2022-07-28T06:07:31.976444Z",
     "shell.execute_reply.started": "2022-07-28T06:07:31.966780Z"
    }
   },
   "outputs": [],
   "source": [
    "#define image dataset class\n",
    "import torch\n",
    "from torch.utils.data import (Dataset, DataLoader)\n",
    "\n",
    "\n",
    "\n",
    "img_folder = '/kaggle/input/stripai-traindata/train_images/all'\n",
    "\n",
    "\n",
    "class IMG_Data(Dataset):\n",
    "    \n",
    "    def __init__(self, data): \n",
    "        \n",
    "\n",
    "        self.data = data\n",
    "        \n",
    "    def __len__(self):\n",
    "        return len(self.data)\n",
    "\n",
    "    def __getitem__(self, idx):\n",
    "        \n",
    "        image_id =self.data.iloc[idx]['image_id']\n",
    "        img_path = f\"({img_folder}/{image_id}.tif\"\n",
    "        y = self.data.iloc[idx]['target']\n",
    "        if Path(img_path).exists():\n",
    "            img = Image.open(img_path)\n",
    "            #transform image: crop image >> to tensor >> normalize\n",
    "            img = transforms.functional.center_crop(img, 500)\n",
    "            img = np.asarray(img, np.uint8)            \n",
    "        else:\n",
    "            img = np.zeros((500, 500, 3), np.uint8)\n",
    "            \n",
    "        x = torch.FloatTensor(img.transpose((2,0,1))  ) #need to slip the data in shape n_channels*height*width\n",
    "        \n",
    "        return x, y\n",
    "    \n",
    "\n",
    "def load_data(df, batch_size, n_workers=0, shuffle=False):\n",
    "    data = IMG_Data(df)\n",
    "    \n",
    "    loader = DataLoader(data, batch_size=batch_size, num_workers=n_workers, shuffle=shuffle)\n",
    "    \n",
    "    return loader"
   ]
  },
  {
   "cell_type": "code",
   "execution_count": 16,
   "metadata": {
    "execution": {
     "iopub.execute_input": "2022-07-28T06:07:33.319742Z",
     "iopub.status.busy": "2022-07-28T06:07:33.319408Z",
     "iopub.status.idle": "2022-07-28T06:07:33.332261Z",
     "shell.execute_reply": "2022-07-28T06:07:33.331204Z",
     "shell.execute_reply.started": "2022-07-28T06:07:33.319714Z"
    }
   },
   "outputs": [],
   "source": [
    "######################################################################\n",
    "# Training the model\n",
    "# ------------------\n",
    "#\n",
    "# Now, let's write a general function to train a model. Here, we will\n",
    "# illustrate:\n",
    "#\n",
    "# -  Scheduling the learning rate\n",
    "# -  Saving the best model\n",
    "#\n",
    "# In the following, parameter ``scheduler`` is an LR scheduler object from\n",
    "# ``torch.optim.lr_scheduler``.\n",
    "\n",
    "\n",
    "\n",
    "def train_model(model, criterion, optimizer, scheduler, num_epochs=25):\n",
    "    since = time.time()\n",
    "\n",
    "    best_model_wts = copy.deepcopy(model.state_dict())\n",
    "    best_acc = 0.0\n",
    "\n",
    "    for epoch in range(num_epochs):\n",
    "        print(f'Epoch {epoch}/{num_epochs - 1}')\n",
    "        print('-' * 10)\n",
    "\n",
    "        # Each epoch has a training and validation phase\n",
    "        for phase in ['train', 'val']:\n",
    "            if phase == 'train':\n",
    "                model.train()  # Set model to training mode\n",
    "            else:\n",
    "                model.eval()   # Set model to evaluate mode\n",
    "\n",
    "            running_loss = 0.0\n",
    "            running_corrects = 0\n",
    "\n",
    "            # Iterate over data.\n",
    "            for inputs, labels in dataloaders[phase]:\n",
    "                inputs = inputs.to(device)\n",
    "                labels = labels.to(device)\n",
    "\n",
    "                # zero the parameter gradients\n",
    "                optimizer.zero_grad()\n",
    "\n",
    "                # forward\n",
    "                # track history if only in train\n",
    "                with torch.set_grad_enabled(phase == 'train'):\n",
    "                    outputs = model(inputs)\n",
    "                    _, preds = torch.max(outputs, 1)\n",
    "                    loss = criterion(outputs, labels)\n",
    "\n",
    "                    # backward + optimize only if in training phase\n",
    "                    if phase == 'train':\n",
    "                        loss.backward()\n",
    "                        optimizer.step()\n",
    "\n",
    "                # statistics\n",
    "                running_loss += loss.item() * inputs.size(0)\n",
    "                running_corrects += torch.sum(preds == labels.data)\n",
    "            if phase == 'train':\n",
    "                scheduler.step()\n",
    "\n",
    "            epoch_loss = running_loss / dataset_sizes[phase]\n",
    "            epoch_acc = running_corrects.double() / dataset_sizes[phase]\n",
    "\n",
    "            print(f'{phase} Loss: {epoch_loss:.4f} Acc: {epoch_acc:.4f}')\n",
    "\n",
    "            # deep copy the model\n",
    "            if phase == 'val' and epoch_acc > best_acc:\n",
    "                best_acc = epoch_acc\n",
    "                best_model_wts = copy.deepcopy(model.state_dict())\n",
    "\n",
    "        print()\n",
    "\n",
    "    time_elapsed = time.time() - since\n",
    "    print(f'Training complete in {time_elapsed // 60:.0f}m {time_elapsed % 60:.0f}s')\n",
    "    print(f'Best val Acc: {best_acc:4f}')\n",
    "\n",
    "    # load best model weights\n",
    "    model.load_state_dict(best_model_wts)\n",
    "    return model\n"
   ]
  },
  {
   "cell_type": "markdown",
   "metadata": {},
   "source": [
    "### Train model - resnet18: train the last layer\n",
    "\n",
    "The following model training process will freeze all the network except the final layer.\n"
   ]
  },
  {
   "cell_type": "code",
   "execution_count": 17,
   "metadata": {
    "execution": {
     "iopub.execute_input": "2022-07-28T06:07:35.767077Z",
     "iopub.status.busy": "2022-07-28T06:07:35.766744Z",
     "iopub.status.idle": "2022-07-28T06:07:35.775683Z",
     "shell.execute_reply": "2022-07-28T06:07:35.774665Z",
     "shell.execute_reply.started": "2022-07-28T06:07:35.767050Z"
    }
   },
   "outputs": [
    {
     "data": {
      "text/plain": [
       "1234"
      ]
     },
     "execution_count": 17,
     "metadata": {},
     "output_type": "execute_result"
    }
   ],
   "source": [
    "pl.seed_everything(random_seed)"
   ]
  },
  {
   "cell_type": "code",
   "execution_count": 18,
   "metadata": {
    "execution": {
     "iopub.execute_input": "2022-07-28T06:07:37.134961Z",
     "iopub.status.busy": "2022-07-28T06:07:37.134621Z",
     "iopub.status.idle": "2022-07-28T06:07:37.141186Z",
     "shell.execute_reply": "2022-07-28T06:07:37.140253Z",
     "shell.execute_reply.started": "2022-07-28T06:07:37.134934Z"
    }
   },
   "outputs": [
    {
     "name": "stdout",
     "output_type": "stream",
     "text": [
      "CPU times: user 115 µs, sys: 18 µs, total: 133 µs\n",
      "Wall time: 137 µs\n"
     ]
    }
   ],
   "source": [
    "%%time\n",
    "#load data to dataloaer\n",
    "dataloaders = {'train': load_data(X_train, 4), 'val': load_data(X_val, 4)}\n",
    "dataset_sizes = {'train': len(X_train), 'val':len(X_val)}"
   ]
  },
  {
   "cell_type": "code",
   "execution_count": 20,
   "metadata": {
    "execution": {
     "iopub.execute_input": "2022-07-28T06:07:42.659293Z",
     "iopub.status.busy": "2022-07-28T06:07:42.658926Z",
     "iopub.status.idle": "2022-07-28T06:07:42.667063Z",
     "shell.execute_reply": "2022-07-28T06:07:42.666107Z",
     "shell.execute_reply.started": "2022-07-28T06:07:42.659263Z"
    }
   },
   "outputs": [
    {
     "data": {
      "text/plain": [
       "device(type='cuda', index=0)"
      ]
     },
     "execution_count": 20,
     "metadata": {},
     "output_type": "execute_result"
    }
   ],
   "source": [
    "device = torch.device(\"cuda:0\" if torch.cuda.is_available() else \"cpu\")\n",
    "device"
   ]
  },
  {
   "cell_type": "code",
   "execution_count": 21,
   "metadata": {
    "execution": {
     "iopub.execute_input": "2022-07-28T06:07:47.532915Z",
     "iopub.status.busy": "2022-07-28T06:07:47.532572Z",
     "iopub.status.idle": "2022-07-28T06:07:51.420951Z",
     "shell.execute_reply": "2022-07-28T06:07:51.420002Z",
     "shell.execute_reply.started": "2022-07-28T06:07:47.532886Z"
    }
   },
   "outputs": [],
   "source": [
    "\n",
    "######################################################################\n",
    "# ConvNet as fixed feature extractor\n",
    "# ----------------------------------\n",
    "#\n",
    "# Here, we need to freeze all the network except the final layer. We need\n",
    "# to set ``requires_grad = False`` to freeze the parameters so that the\n",
    "# gradients are not computed in ``backward()``.\n",
    "#\n",
    "# You can read more about this in the documentation\n",
    "# `here <https://pytorch.org/docs/notes/autograd.html#excluding-subgraphs-from-backward>`__.\n",
    "#\n",
    "\n",
    "model_conv = models.resnet18()\n",
    "model_conv.load_state_dict(torch.load('/kaggle/input/pytorch-pretrained/resnet18-f37072fd.pth'))\n",
    "for param in model_conv.parameters():\n",
    "    param.requires_grad = False\n",
    "\n",
    "# Parameters of newly constructed modules have requires_grad=True by default\n",
    "num_ftrs = model_conv.fc.in_features\n",
    "model_conv.fc = nn.Linear(num_ftrs, 3)\n",
    "\n",
    "model_conv = model_conv.to(device)\n",
    "\n",
    "criterion = nn.CrossEntropyLoss()\n",
    "\n",
    "\n",
    "# Observe that only parameters of final layer are being optimized as\n",
    "# opposed to before.\n",
    "optimizer_conv = optim.SGD(model_conv.fc.parameters(), lr=0.001, momentum=0.9)\n",
    "\n",
    "# Decay LR by a factor of 0.1 every 7 epochs\n",
    "exp_lr_scheduler = lr_scheduler.StepLR(optimizer_conv, step_size=7, gamma=0.1)"
   ]
  },
  {
   "cell_type": "code",
   "execution_count": 22,
   "metadata": {
    "execution": {
     "iopub.execute_input": "2022-07-28T06:07:52.615894Z",
     "iopub.status.busy": "2022-07-28T06:07:52.615544Z",
     "iopub.status.idle": "2022-07-28T06:12:55.589000Z",
     "shell.execute_reply": "2022-07-28T06:12:55.587985Z",
     "shell.execute_reply.started": "2022-07-28T06:07:52.615865Z"
    }
   },
   "outputs": [
    {
     "name": "stdout",
     "output_type": "stream",
     "text": [
      "Epoch 0/49\n",
      "----------\n",
      "train Loss: 1.2066 Acc: 0.4037\n",
      "val Loss: 1.1667 Acc: 0.1875\n",
      "\n",
      "Epoch 1/49\n",
      "----------\n",
      "train Loss: 1.2094 Acc: 0.3910\n",
      "val Loss: 1.1667 Acc: 0.1875\n",
      "\n",
      "Epoch 2/49\n",
      "----------\n",
      "train Loss: 1.2094 Acc: 0.3910\n",
      "val Loss: 1.1667 Acc: 0.1875\n",
      "\n",
      "Epoch 3/49\n",
      "----------\n",
      "train Loss: 1.2094 Acc: 0.3910\n",
      "val Loss: 1.1667 Acc: 0.1875\n",
      "\n",
      "Epoch 4/49\n",
      "----------\n",
      "train Loss: 1.2094 Acc: 0.3910\n",
      "val Loss: 1.1667 Acc: 0.1875\n",
      "\n",
      "Epoch 5/49\n",
      "----------\n",
      "train Loss: 1.2094 Acc: 0.3910\n",
      "val Loss: 1.1667 Acc: 0.1875\n",
      "\n",
      "Epoch 6/49\n",
      "----------\n",
      "train Loss: 1.2094 Acc: 0.3910\n",
      "val Loss: 1.1667 Acc: 0.1875\n",
      "\n",
      "Epoch 7/49\n",
      "----------\n",
      "train Loss: 1.0480 Acc: 0.4687\n",
      "val Loss: 1.0371 Acc: 0.4722\n",
      "\n",
      "Epoch 8/49\n",
      "----------\n",
      "train Loss: 1.0393 Acc: 0.4687\n",
      "val Loss: 1.0371 Acc: 0.4722\n",
      "\n",
      "Epoch 9/49\n",
      "----------\n",
      "train Loss: 1.0393 Acc: 0.4687\n",
      "val Loss: 1.0371 Acc: 0.4722\n",
      "\n",
      "Epoch 10/49\n",
      "----------\n",
      "train Loss: 1.0393 Acc: 0.4687\n",
      "val Loss: 1.0371 Acc: 0.4722\n",
      "\n",
      "Epoch 11/49\n",
      "----------\n",
      "train Loss: 1.0393 Acc: 0.4687\n",
      "val Loss: 1.0371 Acc: 0.4722\n",
      "\n",
      "Epoch 12/49\n",
      "----------\n",
      "train Loss: 1.0393 Acc: 0.4687\n",
      "val Loss: 1.0371 Acc: 0.4722\n",
      "\n",
      "Epoch 13/49\n",
      "----------\n",
      "train Loss: 1.0393 Acc: 0.4687\n",
      "val Loss: 1.0371 Acc: 0.4722\n",
      "\n",
      "Epoch 14/49\n",
      "----------\n",
      "train Loss: 1.0292 Acc: 0.4768\n",
      "val Loss: 1.0360 Acc: 0.4722\n",
      "\n",
      "Epoch 15/49\n",
      "----------\n",
      "train Loss: 1.0293 Acc: 0.4768\n",
      "val Loss: 1.0360 Acc: 0.4722\n",
      "\n",
      "Epoch 16/49\n",
      "----------\n",
      "train Loss: 1.0293 Acc: 0.4768\n",
      "val Loss: 1.0359 Acc: 0.4722\n",
      "\n",
      "Epoch 17/49\n",
      "----------\n",
      "train Loss: 1.0293 Acc: 0.4768\n",
      "val Loss: 1.0359 Acc: 0.4722\n",
      "\n",
      "Epoch 18/49\n",
      "----------\n",
      "train Loss: 1.0293 Acc: 0.4768\n",
      "val Loss: 1.0359 Acc: 0.4722\n",
      "\n",
      "Epoch 19/49\n",
      "----------\n",
      "train Loss: 1.0293 Acc: 0.4768\n",
      "val Loss: 1.0359 Acc: 0.4722\n",
      "\n",
      "Epoch 20/49\n",
      "----------\n",
      "train Loss: 1.0293 Acc: 0.4768\n",
      "val Loss: 1.0359 Acc: 0.4722\n",
      "\n",
      "Epoch 21/49\n",
      "----------\n",
      "train Loss: 1.0276 Acc: 0.4768\n",
      "val Loss: 1.0358 Acc: 0.4722\n",
      "\n",
      "Epoch 22/49\n",
      "----------\n",
      "train Loss: 1.0275 Acc: 0.4768\n",
      "val Loss: 1.0357 Acc: 0.4722\n",
      "\n",
      "Epoch 23/49\n",
      "----------\n",
      "train Loss: 1.0275 Acc: 0.4768\n",
      "val Loss: 1.0357 Acc: 0.4722\n",
      "\n",
      "Epoch 24/49\n",
      "----------\n",
      "train Loss: 1.0275 Acc: 0.4768\n",
      "val Loss: 1.0356 Acc: 0.4722\n",
      "\n",
      "Epoch 25/49\n",
      "----------\n",
      "train Loss: 1.0275 Acc: 0.4768\n",
      "val Loss: 1.0356 Acc: 0.4722\n",
      "\n",
      "Epoch 26/49\n",
      "----------\n",
      "train Loss: 1.0275 Acc: 0.4768\n",
      "val Loss: 1.0355 Acc: 0.4722\n",
      "\n",
      "Epoch 27/49\n",
      "----------\n",
      "train Loss: 1.0274 Acc: 0.4768\n",
      "val Loss: 1.0355 Acc: 0.4722\n",
      "\n",
      "Epoch 28/49\n",
      "----------\n",
      "train Loss: 1.0272 Acc: 0.4768\n",
      "val Loss: 1.0355 Acc: 0.4722\n",
      "\n",
      "Epoch 29/49\n",
      "----------\n",
      "train Loss: 1.0272 Acc: 0.4768\n",
      "val Loss: 1.0355 Acc: 0.4722\n",
      "\n",
      "Epoch 30/49\n",
      "----------\n",
      "train Loss: 1.0272 Acc: 0.4768\n",
      "val Loss: 1.0355 Acc: 0.4722\n",
      "\n",
      "Epoch 31/49\n",
      "----------\n",
      "train Loss: 1.0272 Acc: 0.4768\n",
      "val Loss: 1.0355 Acc: 0.4722\n",
      "\n",
      "Epoch 32/49\n",
      "----------\n",
      "train Loss: 1.0272 Acc: 0.4768\n",
      "val Loss: 1.0355 Acc: 0.4722\n",
      "\n",
      "Epoch 33/49\n",
      "----------\n",
      "train Loss: 1.0272 Acc: 0.4768\n",
      "val Loss: 1.0355 Acc: 0.4722\n",
      "\n",
      "Epoch 34/49\n",
      "----------\n",
      "train Loss: 1.0272 Acc: 0.4768\n",
      "val Loss: 1.0355 Acc: 0.4722\n",
      "\n",
      "Epoch 35/49\n",
      "----------\n",
      "train Loss: 1.0272 Acc: 0.4768\n",
      "val Loss: 1.0355 Acc: 0.4722\n",
      "\n",
      "Epoch 36/49\n",
      "----------\n",
      "train Loss: 1.0272 Acc: 0.4768\n",
      "val Loss: 1.0355 Acc: 0.4722\n",
      "\n",
      "Epoch 37/49\n",
      "----------\n",
      "train Loss: 1.0272 Acc: 0.4768\n",
      "val Loss: 1.0355 Acc: 0.4722\n",
      "\n",
      "Epoch 38/49\n",
      "----------\n",
      "train Loss: 1.0272 Acc: 0.4768\n",
      "val Loss: 1.0355 Acc: 0.4722\n",
      "\n",
      "Epoch 39/49\n",
      "----------\n",
      "train Loss: 1.0272 Acc: 0.4768\n",
      "val Loss: 1.0355 Acc: 0.4722\n",
      "\n",
      "Epoch 40/49\n",
      "----------\n",
      "train Loss: 1.0272 Acc: 0.4768\n",
      "val Loss: 1.0355 Acc: 0.4722\n",
      "\n",
      "Epoch 41/49\n",
      "----------\n",
      "train Loss: 1.0272 Acc: 0.4768\n",
      "val Loss: 1.0355 Acc: 0.4722\n",
      "\n",
      "Epoch 42/49\n",
      "----------\n",
      "train Loss: 1.0272 Acc: 0.4768\n",
      "val Loss: 1.0355 Acc: 0.4722\n",
      "\n",
      "Epoch 43/49\n",
      "----------\n",
      "train Loss: 1.0272 Acc: 0.4768\n",
      "val Loss: 1.0355 Acc: 0.4722\n",
      "\n",
      "Epoch 44/49\n",
      "----------\n",
      "train Loss: 1.0272 Acc: 0.4768\n",
      "val Loss: 1.0355 Acc: 0.4722\n",
      "\n",
      "Epoch 45/49\n",
      "----------\n",
      "train Loss: 1.0272 Acc: 0.4768\n",
      "val Loss: 1.0355 Acc: 0.4722\n",
      "\n",
      "Epoch 46/49\n",
      "----------\n",
      "train Loss: 1.0272 Acc: 0.4768\n",
      "val Loss: 1.0355 Acc: 0.4722\n",
      "\n",
      "Epoch 47/49\n",
      "----------\n",
      "train Loss: 1.0272 Acc: 0.4768\n",
      "val Loss: 1.0355 Acc: 0.4722\n",
      "\n",
      "Epoch 48/49\n",
      "----------\n",
      "train Loss: 1.0272 Acc: 0.4768\n",
      "val Loss: 1.0355 Acc: 0.4722\n",
      "\n",
      "Epoch 49/49\n",
      "----------\n",
      "train Loss: 1.0272 Acc: 0.4768\n",
      "val Loss: 1.0355 Acc: 0.4722\n",
      "\n",
      "Training complete in 5m 3s\n",
      "Best val Acc: 0.472222\n",
      "CPU times: user 4min 54s, sys: 2.03 s, total: 4min 56s\n",
      "Wall time: 5min 2s\n"
     ]
    }
   ],
   "source": [
    "%%time\n",
    "model_conv = train_model(model_conv, criterion, optimizer_conv,\n",
    "                         exp_lr_scheduler, num_epochs=50)"
   ]
  },
  {
   "cell_type": "markdown",
   "metadata": {},
   "source": [
    "### Train model - resnet50: train all layers\n",
    "\n",
    "The following model training process will train all layers\n"
   ]
  },
  {
   "cell_type": "code",
   "execution_count": 23,
   "metadata": {
    "execution": {
     "iopub.execute_input": "2022-07-28T06:12:55.591622Z",
     "iopub.status.busy": "2022-07-28T06:12:55.591007Z",
     "iopub.status.idle": "2022-07-28T06:38:03.452878Z",
     "shell.execute_reply": "2022-07-28T06:38:03.451779Z",
     "shell.execute_reply.started": "2022-07-28T06:12:55.591583Z"
    }
   },
   "outputs": [
    {
     "name": "stdout",
     "output_type": "stream",
     "text": [
      "Epoch 0/49\n",
      "----------\n",
      "train Loss: 1.1166 Acc: 0.4060\n",
      "val Loss: 1.0493 Acc: 0.4722\n",
      "\n",
      "Epoch 1/49\n",
      "----------\n",
      "train Loss: 1.0540 Acc: 0.4443\n",
      "val Loss: 1.0503 Acc: 0.4722\n",
      "\n",
      "Epoch 2/49\n",
      "----------\n",
      "train Loss: 1.0462 Acc: 0.4559\n",
      "val Loss: 1.0408 Acc: 0.4722\n",
      "\n",
      "Epoch 3/49\n",
      "----------\n",
      "train Loss: 1.0432 Acc: 0.4548\n",
      "val Loss: 1.0372 Acc: 0.4722\n",
      "\n",
      "Epoch 4/49\n",
      "----------\n",
      "train Loss: 1.0408 Acc: 0.4652\n",
      "val Loss: 1.0366 Acc: 0.4722\n",
      "\n",
      "Epoch 5/49\n",
      "----------\n",
      "train Loss: 1.0393 Acc: 0.4698\n",
      "val Loss: 1.0374 Acc: 0.4722\n",
      "\n",
      "Epoch 6/49\n",
      "----------\n",
      "train Loss: 1.0385 Acc: 0.4710\n",
      "val Loss: 1.0378 Acc: 0.4722\n",
      "\n",
      "Epoch 7/49\n",
      "----------\n",
      "train Loss: 1.0291 Acc: 0.4768\n",
      "val Loss: 1.0360 Acc: 0.4722\n",
      "\n",
      "Epoch 8/49\n",
      "----------\n",
      "train Loss: 1.0291 Acc: 0.4768\n",
      "val Loss: 1.0359 Acc: 0.4722\n",
      "\n",
      "Epoch 9/49\n",
      "----------\n",
      "train Loss: 1.0291 Acc: 0.4768\n",
      "val Loss: 1.0358 Acc: 0.4722\n",
      "\n",
      "Epoch 10/49\n",
      "----------\n",
      "train Loss: 1.0291 Acc: 0.4768\n",
      "val Loss: 1.0358 Acc: 0.4722\n",
      "\n",
      "Epoch 11/49\n",
      "----------\n",
      "train Loss: 1.0291 Acc: 0.4768\n",
      "val Loss: 1.0358 Acc: 0.4722\n",
      "\n",
      "Epoch 12/49\n",
      "----------\n",
      "train Loss: 1.0291 Acc: 0.4768\n",
      "val Loss: 1.0358 Acc: 0.4722\n",
      "\n",
      "Epoch 13/49\n",
      "----------\n",
      "train Loss: 1.0291 Acc: 0.4768\n",
      "val Loss: 1.0358 Acc: 0.4722\n",
      "\n",
      "Epoch 14/49\n",
      "----------\n",
      "train Loss: 1.0275 Acc: 0.4768\n",
      "val Loss: 1.0357 Acc: 0.4722\n",
      "\n",
      "Epoch 15/49\n",
      "----------\n",
      "train Loss: 1.0275 Acc: 0.4768\n",
      "val Loss: 1.0357 Acc: 0.4722\n",
      "\n",
      "Epoch 16/49\n",
      "----------\n",
      "train Loss: 1.0275 Acc: 0.4768\n",
      "val Loss: 1.0356 Acc: 0.4722\n",
      "\n",
      "Epoch 17/49\n",
      "----------\n",
      "train Loss: 1.0274 Acc: 0.4768\n",
      "val Loss: 1.0356 Acc: 0.4722\n",
      "\n",
      "Epoch 18/49\n",
      "----------\n",
      "train Loss: 1.0274 Acc: 0.4768\n",
      "val Loss: 1.0356 Acc: 0.4722\n",
      "\n",
      "Epoch 19/49\n",
      "----------\n",
      "train Loss: 1.0274 Acc: 0.4768\n",
      "val Loss: 1.0355 Acc: 0.4722\n",
      "\n",
      "Epoch 20/49\n",
      "----------\n",
      "train Loss: 1.0274 Acc: 0.4768\n",
      "val Loss: 1.0355 Acc: 0.4722\n",
      "\n",
      "Epoch 21/49\n",
      "----------\n",
      "train Loss: 1.0272 Acc: 0.4768\n",
      "val Loss: 1.0355 Acc: 0.4722\n",
      "\n",
      "Epoch 22/49\n",
      "----------\n",
      "train Loss: 1.0272 Acc: 0.4768\n",
      "val Loss: 1.0355 Acc: 0.4722\n",
      "\n",
      "Epoch 23/49\n",
      "----------\n",
      "train Loss: 1.0272 Acc: 0.4768\n",
      "val Loss: 1.0355 Acc: 0.4722\n",
      "\n",
      "Epoch 24/49\n",
      "----------\n",
      "train Loss: 1.0272 Acc: 0.4768\n",
      "val Loss: 1.0355 Acc: 0.4722\n",
      "\n",
      "Epoch 25/49\n",
      "----------\n",
      "train Loss: 1.0272 Acc: 0.4768\n",
      "val Loss: 1.0355 Acc: 0.4722\n",
      "\n",
      "Epoch 26/49\n",
      "----------\n",
      "train Loss: 1.0272 Acc: 0.4768\n",
      "val Loss: 1.0355 Acc: 0.4722\n",
      "\n",
      "Epoch 27/49\n",
      "----------\n",
      "train Loss: 1.0272 Acc: 0.4768\n",
      "val Loss: 1.0355 Acc: 0.4722\n",
      "\n",
      "Epoch 28/49\n",
      "----------\n",
      "train Loss: 1.0272 Acc: 0.4768\n",
      "val Loss: 1.0355 Acc: 0.4722\n",
      "\n",
      "Epoch 29/49\n",
      "----------\n",
      "train Loss: 1.0272 Acc: 0.4768\n",
      "val Loss: 1.0355 Acc: 0.4722\n",
      "\n",
      "Epoch 30/49\n",
      "----------\n",
      "train Loss: 1.0272 Acc: 0.4768\n",
      "val Loss: 1.0355 Acc: 0.4722\n",
      "\n",
      "Epoch 31/49\n",
      "----------\n",
      "train Loss: 1.0272 Acc: 0.4768\n",
      "val Loss: 1.0355 Acc: 0.4722\n",
      "\n",
      "Epoch 32/49\n",
      "----------\n",
      "train Loss: 1.0272 Acc: 0.4768\n",
      "val Loss: 1.0355 Acc: 0.4722\n",
      "\n",
      "Epoch 33/49\n",
      "----------\n",
      "train Loss: 1.0272 Acc: 0.4768\n",
      "val Loss: 1.0355 Acc: 0.4722\n",
      "\n",
      "Epoch 34/49\n",
      "----------\n",
      "train Loss: 1.0272 Acc: 0.4768\n",
      "val Loss: 1.0355 Acc: 0.4722\n",
      "\n",
      "Epoch 35/49\n",
      "----------\n",
      "train Loss: 1.0272 Acc: 0.4768\n",
      "val Loss: 1.0355 Acc: 0.4722\n",
      "\n",
      "Epoch 36/49\n",
      "----------\n",
      "train Loss: 1.0272 Acc: 0.4768\n",
      "val Loss: 1.0355 Acc: 0.4722\n",
      "\n",
      "Epoch 37/49\n",
      "----------\n",
      "train Loss: 1.0272 Acc: 0.4768\n",
      "val Loss: 1.0355 Acc: 0.4722\n",
      "\n",
      "Epoch 38/49\n",
      "----------\n",
      "train Loss: 1.0272 Acc: 0.4768\n",
      "val Loss: 1.0355 Acc: 0.4722\n",
      "\n",
      "Epoch 39/49\n",
      "----------\n",
      "train Loss: 1.0272 Acc: 0.4768\n",
      "val Loss: 1.0355 Acc: 0.4722\n",
      "\n",
      "Epoch 40/49\n",
      "----------\n",
      "train Loss: 1.0272 Acc: 0.4768\n",
      "val Loss: 1.0355 Acc: 0.4722\n",
      "\n",
      "Epoch 41/49\n",
      "----------\n",
      "train Loss: 1.0272 Acc: 0.4768\n",
      "val Loss: 1.0355 Acc: 0.4722\n",
      "\n",
      "Epoch 42/49\n",
      "----------\n",
      "train Loss: 1.0272 Acc: 0.4768\n",
      "val Loss: 1.0355 Acc: 0.4722\n",
      "\n",
      "Epoch 43/49\n",
      "----------\n",
      "train Loss: 1.0272 Acc: 0.4768\n",
      "val Loss: 1.0355 Acc: 0.4722\n",
      "\n",
      "Epoch 44/49\n",
      "----------\n",
      "train Loss: 1.0272 Acc: 0.4768\n",
      "val Loss: 1.0355 Acc: 0.4722\n",
      "\n",
      "Epoch 45/49\n",
      "----------\n",
      "train Loss: 1.0272 Acc: 0.4768\n",
      "val Loss: 1.0355 Acc: 0.4722\n",
      "\n",
      "Epoch 46/49\n",
      "----------\n",
      "train Loss: 1.0272 Acc: 0.4768\n",
      "val Loss: 1.0355 Acc: 0.4722\n",
      "\n",
      "Epoch 47/49\n",
      "----------\n",
      "train Loss: 1.0272 Acc: 0.4768\n",
      "val Loss: 1.0355 Acc: 0.4722\n",
      "\n",
      "Epoch 48/49\n",
      "----------\n",
      "train Loss: 1.0272 Acc: 0.4768\n",
      "val Loss: 1.0355 Acc: 0.4722\n",
      "\n",
      "Epoch 49/49\n",
      "----------\n",
      "train Loss: 1.0272 Acc: 0.4768\n",
      "val Loss: 1.0355 Acc: 0.4722\n",
      "\n",
      "Training complete in 25m 5s\n",
      "Best val Acc: 0.472222\n"
     ]
    }
   ],
   "source": [
    "model_ft = models.resnet50()\n",
    "model_ft.load_state_dict(torch.load('/kaggle/input/pytorch-pretrained/resnet50-0676ba61.pth'))\n",
    "num_ftrs = model_ft.fc.in_features\n",
    "\n",
    "\n",
    "model_ft.fc = nn.Linear(num_ftrs, 3)\n",
    "\n",
    "model_ft = model_ft.to(device)\n",
    "\n",
    "criterion = nn.CrossEntropyLoss()\n",
    "\n",
    "# Observe that all parameters are being optimized\n",
    "optimizer_ft = optim.SGD(model_ft.parameters(), lr=0.001, momentum=0.9)\n",
    "\n",
    "# Decay LR by a factor of 0.1 every 7 epochs\n",
    "exp_lr_scheduler = lr_scheduler.StepLR(optimizer_ft, step_size=7, gamma=0.1)\n",
    "\n",
    "model_ft = train_model(model_ft, criterion, optimizer_ft, exp_lr_scheduler,\n",
    "                       num_epochs=50)"
   ]
  },
  {
   "cell_type": "code",
   "execution_count": null,
   "metadata": {},
   "outputs": [],
   "source": []
  }
 ],
 "metadata": {
  "kernelspec": {
   "display_name": "Python 3",
   "language": "python",
   "name": "python3"
  },
  "language_info": {
   "codemirror_mode": {
    "name": "ipython",
    "version": 3
   },
   "file_extension": ".py",
   "mimetype": "text/x-python",
   "name": "python",
   "nbconvert_exporter": "python",
   "pygments_lexer": "ipython3",
   "version": "3.6.3"
  }
 },
 "nbformat": 4,
 "nbformat_minor": 4
}
